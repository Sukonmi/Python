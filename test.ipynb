{
 "cells": [
  {
   "cell_type": "code",
   "execution_count": 1,
   "metadata": {},
   "outputs": [],
   "source": [
    "import pandas as pd"
   ]
  },
  {
   "cell_type": "code",
   "execution_count": 2,
   "metadata": {},
   "outputs": [
    {
     "data": {
      "text/html": [
       "<div>\n",
       "<style scoped>\n",
       "    .dataframe tbody tr th:only-of-type {\n",
       "        vertical-align: middle;\n",
       "    }\n",
       "\n",
       "    .dataframe tbody tr th {\n",
       "        vertical-align: top;\n",
       "    }\n",
       "\n",
       "    .dataframe thead th {\n",
       "        text-align: right;\n",
       "    }\n",
       "</style>\n",
       "<table border=\"1\" class=\"dataframe\">\n",
       "  <thead>\n",
       "    <tr style=\"text-align: right;\">\n",
       "      <th></th>\n",
       "      <th>JobTitles</th>\n",
       "      <th>JobSubTitles</th>\n",
       "      <th>JobLocation</th>\n",
       "      <th>JobDate</th>\n",
       "    </tr>\n",
       "  </thead>\n",
       "  <tbody>\n",
       "    <tr>\n",
       "      <th>0</th>\n",
       "      <td>Senior Python Developer</td>\n",
       "      <td>Payne, Roberts and Davis</td>\n",
       "      <td>\\n        Stewartbury, AA\\n</td>\n",
       "      <td>\\n2021-04-08\\n</td>\n",
       "    </tr>\n",
       "    <tr>\n",
       "      <th>1</th>\n",
       "      <td>Energy engineer</td>\n",
       "      <td>Vasquez-Davidson</td>\n",
       "      <td>\\n        Christopherville, AA\\n</td>\n",
       "      <td>\\n2021-04-08\\n</td>\n",
       "    </tr>\n",
       "    <tr>\n",
       "      <th>2</th>\n",
       "      <td>Legal executive</td>\n",
       "      <td>Jackson, Chambers and Levy</td>\n",
       "      <td>\\n        Port Ericaburgh, AA\\n</td>\n",
       "      <td>\\n2021-04-08\\n</td>\n",
       "    </tr>\n",
       "    <tr>\n",
       "      <th>3</th>\n",
       "      <td>Fitness centre manager</td>\n",
       "      <td>Savage-Bradley</td>\n",
       "      <td>\\n        East Seanview, AP\\n</td>\n",
       "      <td>\\n2021-04-08\\n</td>\n",
       "    </tr>\n",
       "    <tr>\n",
       "      <th>4</th>\n",
       "      <td>Product manager</td>\n",
       "      <td>Ramirez Inc</td>\n",
       "      <td>\\n        North Jamieview, AP\\n</td>\n",
       "      <td>\\n2021-04-08\\n</td>\n",
       "    </tr>\n",
       "  </tbody>\n",
       "</table>\n",
       "</div>"
      ],
      "text/plain": [
       "                 JobTitles                JobSubTitles  \\\n",
       "0  Senior Python Developer    Payne, Roberts and Davis   \n",
       "1          Energy engineer            Vasquez-Davidson   \n",
       "2          Legal executive  Jackson, Chambers and Levy   \n",
       "3   Fitness centre manager              Savage-Bradley   \n",
       "4          Product manager                 Ramirez Inc   \n",
       "\n",
       "                              JobLocation         JobDate  \n",
       "0       \\n        Stewartbury, AA\\n        \\n2021-04-08\\n  \n",
       "1  \\n        Christopherville, AA\\n        \\n2021-04-08\\n  \n",
       "2   \\n        Port Ericaburgh, AA\\n        \\n2021-04-08\\n  \n",
       "3     \\n        East Seanview, AP\\n        \\n2021-04-08\\n  \n",
       "4   \\n        North Jamieview, AP\\n        \\n2021-04-08\\n  "
      ]
     },
     "execution_count": 2,
     "metadata": {},
     "output_type": "execute_result"
    }
   ],
   "source": [
    "df = pd.read_csv(\"jobListing.csv\")\n",
    "df.head()"
   ]
  },
  {
   "cell_type": "code",
   "execution_count": null,
   "metadata": {},
   "outputs": [],
   "source": []
  }
 ],
 "metadata": {
  "kernelspec": {
   "display_name": "base",
   "language": "python",
   "name": "python3"
  },
  "language_info": {
   "codemirror_mode": {
    "name": "ipython",
    "version": 3
   },
   "file_extension": ".py",
   "mimetype": "text/x-python",
   "name": "python",
   "nbconvert_exporter": "python",
   "pygments_lexer": "ipython3",
   "version": "3.12.4"
  }
 },
 "nbformat": 4,
 "nbformat_minor": 2
}
